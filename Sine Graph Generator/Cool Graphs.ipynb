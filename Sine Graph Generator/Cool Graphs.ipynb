{
 "cells": [
  {
   "cell_type": "code",
   "execution_count": 3,
   "id": "d6838405",
   "metadata": {},
   "outputs": [
    {
     "name": "stdout",
     "output_type": "stream",
     "text": [
      "Defaulting to user installation because normal site-packages is not writeable\n",
      "Collecting imageio\n",
      "  Downloading imageio-2.26.1-py3-none-any.whl (3.4 MB)\n",
      "\u001b[2K     \u001b[90m━━━━━━━━━━━━━━━━━━━━━━━━━━━━━━━━━━━━━━━━\u001b[0m \u001b[32m3.4/3.4 MB\u001b[0m \u001b[31m408.7 kB/s\u001b[0m eta \u001b[36m0:00:00\u001b[0m00:01\u001b[0m00:01\u001b[0m\n",
      "\u001b[?25hRequirement already satisfied: numpy in /home/aisling/.local/lib/python3.10/site-packages (from imageio) (1.23.5)\n",
      "Requirement already satisfied: pillow>=8.3.2 in /usr/lib/python3.10/site-packages (from imageio) (9.4.0)\n",
      "Installing collected packages: imageio\n",
      "Successfully installed imageio-2.26.1\n"
     ]
    }
   ],
   "source": [
    "!pip install imageio"
   ]
  },
  {
   "cell_type": "code",
   "execution_count": 4,
   "id": "d6da1aae",
   "metadata": {},
   "outputs": [
    {
     "name": "stderr",
     "output_type": "stream",
     "text": [
      "100%|██████████| 100/100 [01:00<00:00,  1.64it/s]\n",
      "/tmp/ipykernel_40373/596640314.py:28: DeprecationWarning: Starting with ImageIO v3 the behavior of this function will switch to that of iio.v3.imread. To keep the current behavior (and make this warning disappear) use `import imageio.v2 as imageio` or call `imageio.v2.imread` directly.\n",
      "  image = imageio.imread(filename)\n"
     ]
    }
   ],
   "source": [
    "import numpy as np\n",
    "import matplotlib.pyplot as plt\n",
    "import os\n",
    "import imageio\n",
    "from tqdm import tqdm\n",
    "t = np.linspace(0,2*np.pi,1001)\n",
    "offset = 2.4 #space between  graphs (plus 2)\n",
    "filenames = []\n",
    "for i in tqdm(range(0,len(t)-1,10)):\n",
    "    smallt = t[:i]\n",
    "    plt.figure(figsize=(12,12)) #changing this changes the resolution but in scary unpredicatalbe ways\n",
    "    for a in range(1,7): #how many graphs left to right\n",
    "        for b in range(1,7): #how many graphs top to bottom\n",
    "            #plot the grey curve\n",
    "            plt.plot(np.cos(a*t) + a*offset,np.sin(b*t) + 24 - b*offset,color=\"gray\",alpha = 0.3)\n",
    "            #plot the animated curve\n",
    "            plt.plot(np.cos(a*smallt) + a*offset,np.sin(b*smallt) + 24 - b*offset, linewidth = 1.2)\n",
    "            #plot the point\n",
    "            plt.scatter(np.cos(a*t[i]) + a*offset,np.sin(b*t[i]) + 24 - b*offset,color = \"black\")\n",
    "    filename = f'{i}.png'\n",
    "    filenames.append(filename)\n",
    "    #this makes a bunch of files\n",
    "    plt.savefig(filename)\n",
    "    plt.close()\n",
    "#Make gif\n",
    "with imageio.get_writer(f'graphs.gif', mode='I') as writer:\n",
    "    for filename in filenames:\n",
    "        image = imageio.imread(filename)\n",
    "        writer.append_data(image)\n",
    "#Remove files\n",
    "for filename in set(filenames):\n",
    "    os.remove(filename)"
   ]
  }
 ],
 "metadata": {
  "kernelspec": {
   "display_name": "Python 3 (ipykernel)",
   "language": "python",
   "name": "python3"
  },
  "language_info": {
   "codemirror_mode": {
    "name": "ipython",
    "version": 3
   },
   "file_extension": ".py",
   "mimetype": "text/x-python",
   "name": "python",
   "nbconvert_exporter": "python",
   "pygments_lexer": "ipython3",
   "version": "3.10.10"
  }
 },
 "nbformat": 4,
 "nbformat_minor": 5
}
